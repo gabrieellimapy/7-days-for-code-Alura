{
  "cells": [
    {
      "cell_type": "code",
      "execution_count": null,
      "metadata": {
        "id": "X5XMKYlG8rD6"
      },
      "outputs": [],
      "source": [
        "import pandas as pd"
      ]
    },
    {
      "cell_type": "code",
      "execution_count": null,
      "metadata": {
        "id": "gaunjKkPJFxD"
      },
      "outputs": [],
      "source": [
        "# Carregando as informações do github\n",
        "\n",
        "dados20101 = pd.read_csv('https://github.com/FranciscoFoz/7_Days_of_Code_Alura-Python-Pandas/blob/main/Dia_1-Importando_dados/Datasets/dados_emprestimos/emprestimos-20101.csv?raw=true')\n",
        "dados20102 = pd.read_csv('https://github.com/FranciscoFoz/7_Days_of_Code_Alura-Python-Pandas/blob/main/Dia_1-Importando_dados/Datasets/dados_emprestimos/emprestimos-20102.csv?raw=true')\n",
        "dados20111 = pd.read_csv('https://github.com/FranciscoFoz/7_Days_of_Code_Alura-Python-Pandas/blob/main/Dia_1-Importando_dados/Datasets/dados_emprestimos/emprestimos-20111.csv?raw=true')\n",
        "dados20112 = pd.read_csv('https://github.com/FranciscoFoz/7_Days_of_Code_Alura-Python-Pandas/blob/main/Dia_1-Importando_dados/Datasets/dados_emprestimos/emprestimos-20112.csv?raw=true')\n",
        "dados20121 = pd.read_csv('https://github.com/FranciscoFoz/7_Days_of_Code_Alura-Python-Pandas/blob/main/Dia_1-Importando_dados/Datasets/dados_emprestimos/emprestimos-20121.csv?raw=true')\n",
        "dados20122 = pd.read_csv('https://github.com/FranciscoFoz/7_Days_of_Code_Alura-Python-Pandas/blob/main/Dia_1-Importando_dados/Datasets/dados_emprestimos/emprestimos-20122.csv?raw=true')\n",
        "dados20131 = pd.read_csv('https://github.com/FranciscoFoz/7_Days_of_Code_Alura-Python-Pandas/blob/main/Dia_1-Importando_dados/Datasets/dados_emprestimos/emprestimos-20131.csv?raw=true')\n",
        "dados20132 = pd.read_csv('https://github.com/FranciscoFoz/7_Days_of_Code_Alura-Python-Pandas/blob/main/Dia_1-Importando_dados/Datasets/dados_emprestimos/emprestimos-20132.csv?raw=true')\n",
        "dados20141 = pd.read_csv('https://github.com/FranciscoFoz/7_Days_of_Code_Alura-Python-Pandas/blob/main/Dia_1-Importando_dados/Datasets/dados_emprestimos/emprestimos-20141.csv?raw=true')\n",
        "dados20142 = pd.read_csv('https://github.com/FranciscoFoz/7_Days_of_Code_Alura-Python-Pandas/blob/main/Dia_1-Importando_dados/Datasets/dados_emprestimos/emprestimos-20142.csv?raw=true')\n",
        "dados20151 = pd.read_csv('https://github.com/FranciscoFoz/7_Days_of_Code_Alura-Python-Pandas/blob/main/Dia_1-Importando_dados/Datasets/dados_emprestimos/emprestimos-20151.csv?raw=true')\n",
        "dados20152 = pd.read_csv('https://github.com/FranciscoFoz/7_Days_of_Code_Alura-Python-Pandas/blob/main/Dia_1-Importando_dados/Datasets/dados_emprestimos/emprestimos-20152.csv?raw=true')\n",
        "dados20161 = pd.read_csv('https://github.com/FranciscoFoz/7_Days_of_Code_Alura-Python-Pandas/blob/main/Dia_1-Importando_dados/Datasets/dados_emprestimos/emprestimos-20161.csv?raw=true')\n",
        "dados20162 = pd.read_csv('https://github.com/FranciscoFoz/7_Days_of_Code_Alura-Python-Pandas/blob/main/Dia_1-Importando_dados/Datasets/dados_emprestimos/emprestimos-20162.csv?raw=true')\n",
        "dados20171 = pd.read_csv('https://github.com/FranciscoFoz/7_Days_of_Code_Alura-Python-Pandas/blob/main/Dia_1-Importando_dados/Datasets/dados_emprestimos/emprestimos-20171.csv?raw=true')\n",
        "dados20172 = pd.read_csv('https://github.com/FranciscoFoz/7_Days_of_Code_Alura-Python-Pandas/blob/main/Dia_1-Importando_dados/Datasets/dados_emprestimos/emprestimos-20172.csv?raw=true')\n",
        "dados20181 = pd.read_csv('https://github.com/FranciscoFoz/7_Days_of_Code_Alura-Python-Pandas/blob/main/Dia_1-Importando_dados/Datasets/dados_emprestimos/emprestimos-20181.csv?raw=true')\n",
        "dados20182 = pd.read_csv('https://github.com/FranciscoFoz/7_Days_of_Code_Alura-Python-Pandas/blob/main/Dia_1-Importando_dados/Datasets/dados_emprestimos/emprestimos-20182.csv?raw=true')\n",
        "dados20191 = pd.read_csv('https://github.com/FranciscoFoz/7_Days_of_Code_Alura-Python-Pandas/blob/main/Dia_1-Importando_dados/Datasets/dados_emprestimos/emprestimos-20191.csv?raw=true')\n",
        "dados20192 = pd.read_csv('https://github.com/FranciscoFoz/7_Days_of_Code_Alura-Python-Pandas/blob/main/Dia_1-Importando_dados/Datasets/dados_emprestimos/emprestimos-20192.csv?raw=true')\n",
        "dados20201 = pd.read_csv('https://github.com/FranciscoFoz/7_Days_of_Code_Alura-Python-Pandas/blob/main/Dia_1-Importando_dados/Datasets/dados_emprestimos/emprestimos-20201.csv?raw=true')"
      ]
    },
    {
      "cell_type": "code",
      "execution_count": null,
      "metadata": {
        "colab": {
          "base_uri": "https://localhost:8080/",
          "height": 424
        },
        "id": "po9fGKD6JMk_",
        "outputId": "39816a44-d8d4-4273-a4da-f1e4137f9492"
      },
      "outputs": [],
      "source": [
        "#Criação do DataFrame\n",
        "emprestimos = pd.concat([dados20101,\n",
        "                         dados20102,\n",
        "                         dados20111,\n",
        "                         dados20112,\n",
        "                         dados20131,\n",
        "                         dados20132,\n",
        "                         dados20141,\n",
        "                         dados20142,\n",
        "                         dados20151,\n",
        "                         dados20152,\n",
        "                         dados20161,\n",
        "                         dados20162,\n",
        "                         dados20171,\n",
        "                         dados20172,\n",
        "                         dados20181,\n",
        "                         dados20182,\n",
        "                         dados20191,\n",
        "                         dados20192,\n",
        "                         dados20201], ignore_index = True)\n",
        "emprestimos"
      ]
    },
    {
      "cell_type": "code",
      "execution_count": null,
      "metadata": {
        "id": "Y4WQqRkmhpJi"
      },
      "outputs": [],
      "source": [
        "#Retirando duplicidades\n",
        "\n",
        "emprestimos = emprestimos.drop_duplicates()"
      ]
    },
    {
      "cell_type": "code",
      "execution_count": null,
      "metadata": {
        "colab": {
          "base_uri": "https://localhost:8080/",
          "height": 455
        },
        "id": "B6wvoVEChzmF",
        "outputId": "0cb52b1c-694d-4d42-fe6d-5e7bea07a326"
      },
      "outputs": [],
      "source": [
        "#Incrementando dados\n",
        "exemplares = pd.read_parquet('https://github.com/FranciscoFoz/7_Days_of_Code_Alura-Python-Pandas/raw/main/Dia_1-Importando_dados/Datasets/dados_exemplares.parquet')\n",
        "exemplares"
      ]
    },
    {
      "cell_type": "code",
      "execution_count": null,
      "metadata": {
        "id": "niUl3WoOiMID"
      },
      "outputs": [],
      "source": [
        "#Vamos usar Merge para incrementar os DataFrames\n",
        "\n",
        "completo = emprestimos.merge(exemplares)"
      ]
    },
    {
      "cell_type": "code",
      "execution_count": null,
      "metadata": {
        "colab": {
          "base_uri": "https://localhost:8080/",
          "height": 337
        },
        "id": "_S0FBfskjOgI",
        "outputId": "1657b793-f543-4abe-8858-2bfe81c31f20"
      },
      "outputs": [],
      "source": [
        "completo.head()"
      ]
    },
    {
      "cell_type": "code",
      "execution_count": null,
      "metadata": {
        "id": "3liem2AJ0Pp6"
      },
      "outputs": [],
      "source": [
        "# Localização compreende um número que será adicionado na coluna CDU, que define os temas\n",
        "#000 a 099: Generalidades. Ciência e conhecimento.\n",
        "#100 a 199: Filosofia e psicologia.\n",
        "#200 a 299: Religião.\n",
        "#300 a 399: Ciências sociais.\n",
        "#400 a 499: Classe vaga. Provisoriamente não ocupada.\n",
        "#500 a 599: Matemática e ciências naturais.\n",
        "#600 a 699: Ciências aplicadas.\n",
        "#700 a 799: Belas artes.\n",
        "#800 a 899: Linguagem. Língua. Linguística.\n",
        "#900 a 999: Geografia. Biografia. História.\"\n",
        "\n",
        "CDU_lista = []\n",
        "for CDU in completo['localizacao']:\n",
        "  if(CDU < 100):\n",
        "    CDU_lista.append('Generalidades')\n",
        "  elif(CDU < 200):\n",
        "    CDU_lista.append('Filosofia e psicologia')\n",
        "  elif(CDU < 300):\n",
        "    CDU_lista.append('Religião')\n",
        "  elif(CDU < 400):\n",
        "    CDU_lista.append('Ciências sociais')\n",
        "  elif(CDU < 500):\n",
        "    CDU_lista.append('Classe vaga')\n",
        "  elif(CDU < 600):\n",
        "    CDU_lista.append('Matemática e ciências naturais')\n",
        "  elif(CDU < 700):\n",
        "    CDU_lista.append('Ciências aplicadas')\n",
        "  elif(CDU < 800):\n",
        "    CDU_lista.append('Belas artes')\n",
        "  elif(CDU < 900):\n",
        "    CDU_lista.append('Linguagem')\n",
        "  else:\n",
        "    CDU_lista.append('Geografia. Biografia. História.')\n",
        "\n",
        "completo['CDU_geral'] = CDU_lista"
      ]
    },
    {
      "cell_type": "code",
      "execution_count": null,
      "metadata": {
        "colab": {
          "base_uri": "https://localhost:8080/",
          "height": 424
        },
        "id": "8xsyki4qInk1",
        "outputId": "db04771e-65a6-49ea-aedb-df07057f213f"
      },
      "outputs": [],
      "source": [
        "completo.head()"
      ]
    },
    {
      "cell_type": "code",
      "execution_count": null,
      "metadata": {
        "id": "pq4w06axIolv"
      },
      "outputs": [],
      "source": [
        "# Excluindo colunas\n",
        "completo.drop(columns='registro_sistema', inplace=True)"
      ]
    },
    {
      "cell_type": "code",
      "execution_count": null,
      "metadata": {
        "id": "nmtlyoJNMHEf"
      },
      "outputs": [],
      "source": [
        "#conversão de tipo\n",
        "completo['matricula_ou_siape'] = completo['matricula_ou_siape'].astype('string')"
      ]
    },
    {
      "cell_type": "code",
      "execution_count": null,
      "metadata": {
        "colab": {
          "base_uri": "https://localhost:8080/",
          "height": 659
        },
        "id": "AqOhMb4dMXw0",
        "outputId": "c4327894-bfbb-411e-c732-e4f8fb4a37de"
      },
      "outputs": [],
      "source": [
        "completo"
      ]
    },
    {
      "cell_type": "code",
      "execution_count": null,
      "metadata": {
        "id": "nFoUbiYjMZaM"
      },
      "outputs": [],
      "source": []
    }
  ],
  "metadata": {
    "colab": {
      "provenance": []
    },
    "kernelspec": {
      "display_name": "Python 3",
      "name": "python3"
    },
    "language_info": {
      "codemirror_mode": {
        "name": "ipython",
        "version": 3
      },
      "file_extension": ".py",
      "mimetype": "text/x-python",
      "name": "python",
      "nbconvert_exporter": "python",
      "pygments_lexer": "ipython3",
      "version": "3.11.2"
    }
  },
  "nbformat": 4,
  "nbformat_minor": 0
}
